{
 "cells": [
  {
   "cell_type": "markdown",
   "metadata": {},
   "source": [
    "## Initialization"
   ]
  },
  {
   "cell_type": "code",
   "execution_count": 62,
   "metadata": {
    "collapsed": true,
    "scrolled": false
   },
   "outputs": [],
   "source": [
    "%matplotlib inline"
   ]
  },
  {
   "cell_type": "code",
   "execution_count": 63,
   "metadata": {
    "collapsed": true,
    "scrolled": false
   },
   "outputs": [],
   "source": [
    "import pandas as pd\n",
    "import numpy as np\n",
    "import matplotlib.pyplot as plt\n",
    "import seaborn as sns\n",
    "import os, json\n",
    "import re"
   ]
  },
  {
   "cell_type": "markdown",
   "metadata": {},
   "source": [
    "## Read Data"
   ]
  },
  {
   "cell_type": "code",
   "execution_count": 3,
   "metadata": {
    "scrolled": false
   },
   "outputs": [],
   "source": [
    "if os.path.exists('dataset/train.csv'):\n",
    "    data = pd.read_csv('dataset/train.csv', error_bad_lines=False)"
   ]
  },
  {
   "cell_type": "markdown",
   "metadata": {},
   "source": [
    "## Preprocessing\n",
    "\n",
    "Subset failed inspections."
   ]
  },
  {
   "cell_type": "code",
   "execution_count": 4,
   "metadata": {
    "scrolled": false
   },
   "outputs": [
    {
     "data": {
      "text/html": [
       "<div>\n",
       "<style scoped>\n",
       "    .dataframe tbody tr th:only-of-type {\n",
       "        vertical-align: middle;\n",
       "    }\n",
       "\n",
       "    .dataframe tbody tr th {\n",
       "        vertical-align: top;\n",
       "    }\n",
       "\n",
       "    .dataframe thead th {\n",
       "        text-align: right;\n",
       "    }\n",
       "</style>\n",
       "<table border=\"1\" class=\"dataframe\">\n",
       "  <thead>\n",
       "    <tr style=\"text-align: right;\">\n",
       "      <th></th>\n",
       "      <th>review/overall</th>\n",
       "      <th>review/text</th>\n",
       "    </tr>\n",
       "  </thead>\n",
       "  <tbody>\n",
       "    <tr>\n",
       "      <th>0</th>\n",
       "      <td>4.0</td>\n",
       "      <td>Pours a clouded gold with a thin white head. N...</td>\n",
       "    </tr>\n",
       "    <tr>\n",
       "      <th>1</th>\n",
       "      <td>3.5</td>\n",
       "      <td>12oz bottle into 8oz snifter.\\t\\tDeep ruby red...</td>\n",
       "    </tr>\n",
       "    <tr>\n",
       "      <th>2</th>\n",
       "      <td>3.5</td>\n",
       "      <td>First enjoyed at the brewpub about 2 years ago...</td>\n",
       "    </tr>\n",
       "    <tr>\n",
       "      <th>3</th>\n",
       "      <td>2.5</td>\n",
       "      <td>First thing I noticed after pouring from green...</td>\n",
       "    </tr>\n",
       "    <tr>\n",
       "      <th>4</th>\n",
       "      <td>3.0</td>\n",
       "      <td>A: pours an amber with a one finger head but o...</td>\n",
       "    </tr>\n",
       "  </tbody>\n",
       "</table>\n",
       "</div>"
      ],
      "text/plain": [
       "   review/overall                                        review/text\n",
       "0             4.0  Pours a clouded gold with a thin white head. N...\n",
       "1             3.5  12oz bottle into 8oz snifter.\\t\\tDeep ruby red...\n",
       "2             3.5  First enjoyed at the brewpub about 2 years ago...\n",
       "3             2.5  First thing I noticed after pouring from green...\n",
       "4             3.0  A: pours an amber with a one finger head but o..."
      ]
     },
     "execution_count": 4,
     "metadata": {},
     "output_type": "execute_result"
    }
   ],
   "source": [
    "high_ratings = data[['review/overall','review/text']]\n",
    "high_ratings.head()"
   ]
  },
  {
   "cell_type": "markdown",
   "metadata": {},
   "source": [
    "## Remove Punctuation and Number"
   ]
  },
  {
   "cell_type": "code",
   "execution_count": 5,
   "metadata": {
    "collapsed": true,
    "scrolled": false
   },
   "outputs": [],
   "source": [
    "import nltk\n",
    "import string\n",
    "from string import digits"
   ]
  },
  {
   "cell_type": "code",
   "execution_count": 6,
   "metadata": {
    "collapsed": true,
    "scrolled": false
   },
   "outputs": [],
   "source": [
    "remove_punctuation = str.maketrans('', '', string.punctuation)\n",
    "remove_digits = str.maketrans('', '', digits)"
   ]
  },
  {
   "cell_type": "code",
   "execution_count": 14,
   "metadata": {
    "collapsed": true,
    "scrolled": false
   },
   "outputs": [],
   "source": [
    "def clean_column(df,colname):\n",
    "    df[colname] = df[colname].str.translate(remove_punctuation)\n",
    "    df[colname] = df[colname].str.translate(remove_digits)\n",
    "    df[colname] = df[colname].str.lower()"
   ]
  },
  {
   "cell_type": "code",
   "execution_count": 20,
   "metadata": {
    "scrolled": false
   },
   "outputs": [],
   "source": [
    "clean_column(high_ratings,'review/text')"
   ]
  },
  {
   "cell_type": "code",
   "execution_count": 23,
   "metadata": {},
   "outputs": [],
   "source": [
    "clean_df = high_ratings"
   ]
  },
  {
   "cell_type": "code",
   "execution_count": 24,
   "metadata": {
    "scrolled": false
   },
   "outputs": [
    {
     "data": {
      "text/html": [
       "<div>\n",
       "<style scoped>\n",
       "    .dataframe tbody tr th:only-of-type {\n",
       "        vertical-align: middle;\n",
       "    }\n",
       "\n",
       "    .dataframe tbody tr th {\n",
       "        vertical-align: top;\n",
       "    }\n",
       "\n",
       "    .dataframe thead th {\n",
       "        text-align: right;\n",
       "    }\n",
       "</style>\n",
       "<table border=\"1\" class=\"dataframe\">\n",
       "  <thead>\n",
       "    <tr style=\"text-align: right;\">\n",
       "      <th></th>\n",
       "      <th>review/overall</th>\n",
       "      <th>review/text</th>\n",
       "    </tr>\n",
       "  </thead>\n",
       "  <tbody>\n",
       "    <tr>\n",
       "      <th>0</th>\n",
       "      <td>4.0</td>\n",
       "      <td>pours a clouded gold with a thin white head no...</td>\n",
       "    </tr>\n",
       "    <tr>\n",
       "      <th>1</th>\n",
       "      <td>3.5</td>\n",
       "      <td>oz bottle into oz snifter\\t\\tdeep ruby red hue...</td>\n",
       "    </tr>\n",
       "    <tr>\n",
       "      <th>2</th>\n",
       "      <td>3.5</td>\n",
       "      <td>first enjoyed at the brewpub about  years ago ...</td>\n",
       "    </tr>\n",
       "    <tr>\n",
       "      <th>3</th>\n",
       "      <td>2.5</td>\n",
       "      <td>first thing i noticed after pouring from green...</td>\n",
       "    </tr>\n",
       "    <tr>\n",
       "      <th>4</th>\n",
       "      <td>3.0</td>\n",
       "      <td>a pours an amber with a one finger head but on...</td>\n",
       "    </tr>\n",
       "  </tbody>\n",
       "</table>\n",
       "</div>"
      ],
      "text/plain": [
       "   review/overall                                        review/text\n",
       "0             4.0  pours a clouded gold with a thin white head no...\n",
       "1             3.5  oz bottle into oz snifter\\t\\tdeep ruby red hue...\n",
       "2             3.5  first enjoyed at the brewpub about  years ago ...\n",
       "3             2.5  first thing i noticed after pouring from green...\n",
       "4             3.0  a pours an amber with a one finger head but on..."
      ]
     },
     "execution_count": 24,
     "metadata": {},
     "output_type": "execute_result"
    }
   ],
   "source": [
    "clean_df.head()"
   ]
  },
  {
   "cell_type": "markdown",
   "metadata": {},
   "source": [
    "### Subset Clean_df\n",
    "\n",
    "Subset the entries for the top 10 violations."
   ]
  },
  {
   "cell_type": "code",
   "execution_count": 29,
   "metadata": {
    "collapsed": true,
    "scrolled": false
   },
   "outputs": [],
   "source": [
    "clean_df_subset = clean_df.loc[clean_df['review/overall']>=4]"
   ]
  },
  {
   "cell_type": "code",
   "execution_count": 30,
   "metadata": {
    "scrolled": false
   },
   "outputs": [
    {
     "data": {
      "text/html": [
       "<div>\n",
       "<style scoped>\n",
       "    .dataframe tbody tr th:only-of-type {\n",
       "        vertical-align: middle;\n",
       "    }\n",
       "\n",
       "    .dataframe tbody tr th {\n",
       "        vertical-align: top;\n",
       "    }\n",
       "\n",
       "    .dataframe thead th {\n",
       "        text-align: right;\n",
       "    }\n",
       "</style>\n",
       "<table border=\"1\" class=\"dataframe\">\n",
       "  <thead>\n",
       "    <tr style=\"text-align: right;\">\n",
       "      <th></th>\n",
       "      <th>review/overall</th>\n",
       "      <th>review/text</th>\n",
       "    </tr>\n",
       "  </thead>\n",
       "  <tbody>\n",
       "    <tr>\n",
       "      <th>0</th>\n",
       "      <td>4.0</td>\n",
       "      <td>pours a clouded gold with a thin white head no...</td>\n",
       "    </tr>\n",
       "    <tr>\n",
       "      <th>5</th>\n",
       "      <td>4.0</td>\n",
       "      <td>served in a snifter ontap at cbc\\t\\tcolor is t...</td>\n",
       "    </tr>\n",
       "    <tr>\n",
       "      <th>6</th>\n",
       "      <td>4.0</td>\n",
       "      <td>my th review ontap mini snifter\\t\\t a nutty da...</td>\n",
       "    </tr>\n",
       "    <tr>\n",
       "      <th>7</th>\n",
       "      <td>4.0</td>\n",
       "      <td>one of the better pumpkin ales ive tried so fa...</td>\n",
       "    </tr>\n",
       "    <tr>\n",
       "      <th>8</th>\n",
       "      <td>4.5</td>\n",
       "      <td>a snifter filled several times over from a ml ...</td>\n",
       "    </tr>\n",
       "  </tbody>\n",
       "</table>\n",
       "</div>"
      ],
      "text/plain": [
       "   review/overall                                        review/text\n",
       "0             4.0  pours a clouded gold with a thin white head no...\n",
       "5             4.0  served in a snifter ontap at cbc\\t\\tcolor is t...\n",
       "6             4.0  my th review ontap mini snifter\\t\\t a nutty da...\n",
       "7             4.0  one of the better pumpkin ales ive tried so fa...\n",
       "8             4.5  a snifter filled several times over from a ml ..."
      ]
     },
     "execution_count": 30,
     "metadata": {},
     "output_type": "execute_result"
    }
   ],
   "source": [
    "clean_df_subset.head()"
   ]
  },
  {
   "cell_type": "code",
   "execution_count": 31,
   "metadata": {
    "scrolled": false
   },
   "outputs": [
    {
     "data": {
      "text/plain": [
       "(25205, 2)"
      ]
     },
     "execution_count": 31,
     "metadata": {},
     "output_type": "execute_result"
    }
   ],
   "source": [
    "clean_df_subset.shape"
   ]
  },
  {
   "cell_type": "markdown",
   "metadata": {},
   "source": [
    "### Tokenization"
   ]
  },
  {
   "cell_type": "code",
   "execution_count": 33,
   "metadata": {
    "collapsed": true,
    "scrolled": false
   },
   "outputs": [],
   "source": [
    "from nltk.tokenize import sent_tokenize, word_tokenize"
   ]
  },
  {
   "cell_type": "code",
   "execution_count": 34,
   "metadata": {
    "collapsed": true,
    "scrolled": false
   },
   "outputs": [],
   "source": [
    "def tokenize_only(text):\n",
    "    # first tokenize by sentence, then by word to ensure that punctuation is caught as it's own token\n",
    "    tokens = [word.lower() for sent in nltk.sent_tokenize(text) for word in nltk.word_tokenize(sent)]\n",
    "    filtered_tokens = []\n",
    "    # filter out any tokens not containing letters (e.g., numeric tokens, raw punctuation)\n",
    "    for token in tokens:\n",
    "        if re.search('[a-zA-Z]', token):\n",
    "            filtered_tokens.append(token)\n",
    "    return filtered_tokens"
   ]
  },
  {
   "cell_type": "code",
   "execution_count": 35,
   "metadata": {
    "scrolled": false
   },
   "outputs": [
    {
     "name": "stderr",
     "output_type": "stream",
     "text": [
      "C:\\Users\\pmann\\Anaconda3\\lib\\site-packages\\ipykernel_launcher.py:1: SettingWithCopyWarning: \n",
      "A value is trying to be set on a copy of a slice from a DataFrame.\n",
      "Try using .loc[row_indexer,col_indexer] = value instead\n",
      "\n",
      "See the caveats in the documentation: http://pandas.pydata.org/pandas-docs/stable/indexing.html#indexing-view-versus-copy\n",
      "  \"\"\"Entry point for launching an IPython kernel.\n"
     ]
    }
   ],
   "source": [
    "clean_df_subset['review/text'] = clean_df_subset['review/text'].astype('str')\n",
    "comment_tokens = clean_df_subset['review/text'].apply(tokenize_only)"
   ]
  },
  {
   "cell_type": "markdown",
   "metadata": {},
   "source": [
    "### Remove Stopwords"
   ]
  },
  {
   "cell_type": "code",
   "execution_count": 36,
   "metadata": {
    "collapsed": true,
    "scrolled": false
   },
   "outputs": [],
   "source": [
    "from nltk.corpus import stopwords\n",
    "stop = stopwords.words('english')"
   ]
  },
  {
   "cell_type": "code",
   "execution_count": 37,
   "metadata": {
    "collapsed": true,
    "scrolled": false
   },
   "outputs": [],
   "source": [
    "comment_tokens_filtered = comment_tokens.apply(lambda x: [item for item in x if item not in stop])"
   ]
  },
  {
   "cell_type": "code",
   "execution_count": 38,
   "metadata": {
    "scrolled": false
   },
   "outputs": [
    {
     "data": {
      "text/plain": [
       "0    [pours, clouded, gold, thin, white, head, nose...\n",
       "5    [served, snifter, ontap, cbc, color, typical, ...\n",
       "6    [th, review, ontap, mini, snifter, nutty, dark...\n",
       "7    [one, better, pumpkin, ales, ive, tried, far, ...\n",
       "8    [snifter, filled, several, times, ml, bottle, ...\n",
       "Name: review/text, dtype: object"
      ]
     },
     "execution_count": 38,
     "metadata": {},
     "output_type": "execute_result"
    }
   ],
   "source": [
    "comment_tokens_filtered.head()"
   ]
  },
  {
   "cell_type": "code",
   "execution_count": 72,
   "metadata": {
    "collapsed": true
   },
   "outputs": [],
   "source": [
    "comment_tokens_filtered.to_csv('all_reviews.txt', sep=' ', index=False)"
   ]
  },
  {
   "cell_type": "markdown",
   "metadata": {},
   "source": [
    "### Count Word Frequency"
   ]
  },
  {
   "cell_type": "code",
   "execution_count": 39,
   "metadata": {
    "collapsed": true,
    "scrolled": false
   },
   "outputs": [],
   "source": [
    "def count_word_freq(pd_series):\n",
    "    tokens_flat = list(pd_series.values.flatten())\n",
    "    tokens_flat_list = [item for sublist in tokens_flat for item in sublist]\n",
    "    value_counts = pd.Series(tokens_flat_list).value_counts()\n",
    "    count = value_counts.rename_axis('unique_values').reset_index(name='counts')\n",
    "    return count"
   ]
  },
  {
   "cell_type": "code",
   "execution_count": 66,
   "metadata": {
    "scrolled": true
   },
   "outputs": [],
   "source": [
    "popular_terms = count_word_freq(comment_tokens_filtered)\n",
    "popular_terms = popular_terms.loc[popular_terms['counts'] > 5000]"
   ]
  },
  {
   "cell_type": "code",
   "execution_count": 67,
   "metadata": {},
   "outputs": [
    {
     "data": {
      "text/plain": [
       "<matplotlib.axes._subplots.AxesSubplot at 0x20c77a346d8>"
      ]
     },
     "execution_count": 67,
     "metadata": {},
     "output_type": "execute_result"
    },
    {
     "data": {
      "image/png": "[encoded data removed]",
      "text/plain": [
       "<matplotlib.figure.Figure at 0x20c77a9b780>"
      ]
     },
     "metadata": {},
     "output_type": "display_data"
    }
   ],
   "source": [
    "popular_terms['counts'].hist()"
   ]
  },
  {
   "cell_type": "code",
   "execution_count": 68,
   "metadata": {},
   "outputs": [
    {
     "data": {
      "text/html": [
       "<div>\n",
       "<style scoped>\n",
       "    .dataframe tbody tr th:only-of-type {\n",
       "        vertical-align: middle;\n",
       "    }\n",
       "\n",
       "    .dataframe tbody tr th {\n",
       "        vertical-align: top;\n",
       "    }\n",
       "\n",
       "    .dataframe thead th {\n",
       "        text-align: right;\n",
       "    }\n",
       "</style>\n",
       "<table border=\"1\" class=\"dataframe\">\n",
       "  <thead>\n",
       "    <tr style=\"text-align: right;\">\n",
       "      <th></th>\n",
       "      <th>unique_values</th>\n",
       "      <th>counts</th>\n",
       "    </tr>\n",
       "  </thead>\n",
       "  <tbody>\n",
       "    <tr>\n",
       "      <th>0</th>\n",
       "      <td>beer</td>\n",
       "      <td>34937</td>\n",
       "    </tr>\n",
       "    <tr>\n",
       "      <th>1</th>\n",
       "      <td>veri</td>\n",
       "      <td>27312</td>\n",
       "    </tr>\n",
       "    <tr>\n",
       "      <th>2</th>\n",
       "      <td>head</td>\n",
       "      <td>24920</td>\n",
       "    </tr>\n",
       "    <tr>\n",
       "      <th>3</th>\n",
       "      <td>hop</td>\n",
       "      <td>24051</td>\n",
       "    </tr>\n",
       "    <tr>\n",
       "      <th>4</th>\n",
       "      <td>malt</td>\n",
       "      <td>22314</td>\n",
       "    </tr>\n",
       "    <tr>\n",
       "      <th>5</th>\n",
       "      <td>tast</td>\n",
       "      <td>21778</td>\n",
       "    </tr>\n",
       "    <tr>\n",
       "      <th>6</th>\n",
       "      <td>nice</td>\n",
       "      <td>21409</td>\n",
       "    </tr>\n",
       "    <tr>\n",
       "      <th>7</th>\n",
       "      <td>flavor</td>\n",
       "      <td>19803</td>\n",
       "    </tr>\n",
       "    <tr>\n",
       "      <th>8</th>\n",
       "      <td>sweet</td>\n",
       "      <td>19328</td>\n",
       "    </tr>\n",
       "    <tr>\n",
       "      <th>9</th>\n",
       "      <td>pour</td>\n",
       "      <td>19325</td>\n",
       "    </tr>\n",
       "    <tr>\n",
       "      <th>10</th>\n",
       "      <td>good</td>\n",
       "      <td>16829</td>\n",
       "    </tr>\n",
       "    <tr>\n",
       "      <th>11</th>\n",
       "      <td>dark</td>\n",
       "      <td>15311</td>\n",
       "    </tr>\n",
       "    <tr>\n",
       "      <th>12</th>\n",
       "      <td>bitter</td>\n",
       "      <td>15011</td>\n",
       "    </tr>\n",
       "    <tr>\n",
       "      <th>13</th>\n",
       "      <td>smell</td>\n",
       "      <td>14680</td>\n",
       "    </tr>\n",
       "    <tr>\n",
       "      <th>14</th>\n",
       "      <td>like</td>\n",
       "      <td>14661</td>\n",
       "    </tr>\n",
       "    <tr>\n",
       "      <th>15</th>\n",
       "      <td>one</td>\n",
       "      <td>14637</td>\n",
       "    </tr>\n",
       "    <tr>\n",
       "      <th>16</th>\n",
       "      <td>chocol</td>\n",
       "      <td>13913</td>\n",
       "    </tr>\n",
       "    <tr>\n",
       "      <th>17</th>\n",
       "      <td>light</td>\n",
       "      <td>13394</td>\n",
       "    </tr>\n",
       "    <tr>\n",
       "      <th>18</th>\n",
       "      <td>coffe</td>\n",
       "      <td>12979</td>\n",
       "    </tr>\n",
       "    <tr>\n",
       "      <th>19</th>\n",
       "      <td>aroma</td>\n",
       "      <td>12904</td>\n",
       "    </tr>\n",
       "    <tr>\n",
       "      <th>20</th>\n",
       "      <td>lace</td>\n",
       "      <td>12639</td>\n",
       "    </tr>\n",
       "    <tr>\n",
       "      <th>21</th>\n",
       "      <td>carbon</td>\n",
       "      <td>12437</td>\n",
       "    </tr>\n",
       "    <tr>\n",
       "      <th>22</th>\n",
       "      <td>finish</td>\n",
       "      <td>12015</td>\n",
       "    </tr>\n",
       "    <tr>\n",
       "      <th>23</th>\n",
       "      <td>well</td>\n",
       "      <td>11674</td>\n",
       "    </tr>\n",
       "    <tr>\n",
       "      <th>24</th>\n",
       "      <td>bodi</td>\n",
       "      <td>11600</td>\n",
       "    </tr>\n",
       "    <tr>\n",
       "      <th>25</th>\n",
       "      <td>bit</td>\n",
       "      <td>11215</td>\n",
       "    </tr>\n",
       "    <tr>\n",
       "      <th>26</th>\n",
       "      <td>glass</td>\n",
       "      <td>10814</td>\n",
       "    </tr>\n",
       "    <tr>\n",
       "      <th>27</th>\n",
       "      <td>bottl</td>\n",
       "      <td>10613</td>\n",
       "    </tr>\n",
       "    <tr>\n",
       "      <th>28</th>\n",
       "      <td>color</td>\n",
       "      <td>10486</td>\n",
       "    </tr>\n",
       "    <tr>\n",
       "      <th>29</th>\n",
       "      <td>slight</td>\n",
       "      <td>9571</td>\n",
       "    </tr>\n",
       "    <tr>\n",
       "      <th>...</th>\n",
       "      <td>...</td>\n",
       "      <td>...</td>\n",
       "    </tr>\n",
       "    <tr>\n",
       "      <th>36</th>\n",
       "      <td>drinkabl</td>\n",
       "      <td>8363</td>\n",
       "    </tr>\n",
       "    <tr>\n",
       "      <th>37</th>\n",
       "      <td>brown</td>\n",
       "      <td>8281</td>\n",
       "    </tr>\n",
       "    <tr>\n",
       "      <th>38</th>\n",
       "      <td>realli</td>\n",
       "      <td>8107</td>\n",
       "    </tr>\n",
       "    <tr>\n",
       "      <th>39</th>\n",
       "      <td>note</td>\n",
       "      <td>7998</td>\n",
       "    </tr>\n",
       "    <tr>\n",
       "      <th>40</th>\n",
       "      <td>caramel</td>\n",
       "      <td>7989</td>\n",
       "    </tr>\n",
       "    <tr>\n",
       "      <th>41</th>\n",
       "      <td>drink</td>\n",
       "      <td>7850</td>\n",
       "    </tr>\n",
       "    <tr>\n",
       "      <th>42</th>\n",
       "      <td>balanc</td>\n",
       "      <td>7700</td>\n",
       "    </tr>\n",
       "    <tr>\n",
       "      <th>43</th>\n",
       "      <td>black</td>\n",
       "      <td>7535</td>\n",
       "    </tr>\n",
       "    <tr>\n",
       "      <th>44</th>\n",
       "      <td>thick</td>\n",
       "      <td>6952</td>\n",
       "    </tr>\n",
       "    <tr>\n",
       "      <th>45</th>\n",
       "      <td>medium</td>\n",
       "      <td>6917</td>\n",
       "    </tr>\n",
       "    <tr>\n",
       "      <th>46</th>\n",
       "      <td>much</td>\n",
       "      <td>6827</td>\n",
       "    </tr>\n",
       "    <tr>\n",
       "      <th>47</th>\n",
       "      <td>hint</td>\n",
       "      <td>6789</td>\n",
       "    </tr>\n",
       "    <tr>\n",
       "      <th>48</th>\n",
       "      <td>nose</td>\n",
       "      <td>6753</td>\n",
       "    </tr>\n",
       "    <tr>\n",
       "      <th>49</th>\n",
       "      <td>brew</td>\n",
       "      <td>6648</td>\n",
       "    </tr>\n",
       "    <tr>\n",
       "      <th>50</th>\n",
       "      <td>would</td>\n",
       "      <td>6600</td>\n",
       "    </tr>\n",
       "    <tr>\n",
       "      <th>51</th>\n",
       "      <td>creami</td>\n",
       "      <td>6553</td>\n",
       "    </tr>\n",
       "    <tr>\n",
       "      <th>52</th>\n",
       "      <td>bourbon</td>\n",
       "      <td>6538</td>\n",
       "    </tr>\n",
       "    <tr>\n",
       "      <th>53</th>\n",
       "      <td>stout</td>\n",
       "      <td>6083</td>\n",
       "    </tr>\n",
       "    <tr>\n",
       "      <th>54</th>\n",
       "      <td>get</td>\n",
       "      <td>5954</td>\n",
       "    </tr>\n",
       "    <tr>\n",
       "      <th>55</th>\n",
       "      <td>citrus</td>\n",
       "      <td>5631</td>\n",
       "    </tr>\n",
       "    <tr>\n",
       "      <th>56</th>\n",
       "      <td>quit</td>\n",
       "      <td>5519</td>\n",
       "    </tr>\n",
       "    <tr>\n",
       "      <th>57</th>\n",
       "      <td>lot</td>\n",
       "      <td>5480</td>\n",
       "    </tr>\n",
       "    <tr>\n",
       "      <th>58</th>\n",
       "      <td>dri</td>\n",
       "      <td>5471</td>\n",
       "    </tr>\n",
       "    <tr>\n",
       "      <th>59</th>\n",
       "      <td>fruit</td>\n",
       "      <td>5376</td>\n",
       "    </tr>\n",
       "    <tr>\n",
       "      <th>60</th>\n",
       "      <td>come</td>\n",
       "      <td>5272</td>\n",
       "    </tr>\n",
       "    <tr>\n",
       "      <th>61</th>\n",
       "      <td>white</td>\n",
       "      <td>5157</td>\n",
       "    </tr>\n",
       "    <tr>\n",
       "      <th>62</th>\n",
       "      <td>big</td>\n",
       "      <td>5087</td>\n",
       "    </tr>\n",
       "    <tr>\n",
       "      <th>63</th>\n",
       "      <td>leav</td>\n",
       "      <td>5059</td>\n",
       "    </tr>\n",
       "    <tr>\n",
       "      <th>64</th>\n",
       "      <td>pretti</td>\n",
       "      <td>5036</td>\n",
       "    </tr>\n",
       "    <tr>\n",
       "      <th>65</th>\n",
       "      <td>strong</td>\n",
       "      <td>5015</td>\n",
       "    </tr>\n",
       "  </tbody>\n",
       "</table>\n",
       "<p>66 rows × 2 columns</p>\n",
       "</div>"
      ],
      "text/plain": [
       "   unique_values  counts\n",
       "0           beer   34937\n",
       "1           veri   27312\n",
       "2           head   24920\n",
       "3            hop   24051\n",
       "4           malt   22314\n",
       "5           tast   21778\n",
       "6           nice   21409\n",
       "7         flavor   19803\n",
       "8          sweet   19328\n",
       "9           pour   19325\n",
       "10          good   16829\n",
       "11          dark   15311\n",
       "12        bitter   15011\n",
       "13         smell   14680\n",
       "14          like   14661\n",
       "15           one   14637\n",
       "16        chocol   13913\n",
       "17         light   13394\n",
       "18         coffe   12979\n",
       "19         aroma   12904\n",
       "20          lace   12639\n",
       "21        carbon   12437\n",
       "22        finish   12015\n",
       "23          well   11674\n",
       "24          bodi   11600\n",
       "25           bit   11215\n",
       "26         glass   10814\n",
       "27         bottl   10613\n",
       "28         color   10486\n",
       "29        slight    9571\n",
       "..           ...     ...\n",
       "36      drinkabl    8363\n",
       "37         brown    8281\n",
       "38        realli    8107\n",
       "39          note    7998\n",
       "40       caramel    7989\n",
       "41         drink    7850\n",
       "42        balanc    7700\n",
       "43         black    7535\n",
       "44         thick    6952\n",
       "45        medium    6917\n",
       "46          much    6827\n",
       "47          hint    6789\n",
       "48          nose    6753\n",
       "49          brew    6648\n",
       "50         would    6600\n",
       "51        creami    6553\n",
       "52       bourbon    6538\n",
       "53         stout    6083\n",
       "54           get    5954\n",
       "55        citrus    5631\n",
       "56          quit    5519\n",
       "57           lot    5480\n",
       "58           dri    5471\n",
       "59         fruit    5376\n",
       "60          come    5272\n",
       "61         white    5157\n",
       "62           big    5087\n",
       "63          leav    5059\n",
       "64        pretti    5036\n",
       "65        strong    5015\n",
       "\n",
       "[66 rows x 2 columns]"
      ]
     },
     "execution_count": 68,
     "metadata": {},
     "output_type": "execute_result"
    }
   ],
   "source": [
    "popular_terms"
   ]
  },
  {
   "cell_type": "markdown",
   "metadata": {},
   "source": [
    "## Final Option-A: 1-2 N-Grams + Lemmatizer + TFIDF + Grouped per Code"
   ]
  },
  {
   "cell_type": "code",
   "execution_count": 69,
   "metadata": {},
   "outputs": [],
   "source": [
    "from sklearn.feature_extraction.text import TfidfVectorizer"
   ]
  },
  {
   "cell_type": "code",
   "execution_count": 70,
   "metadata": {
    "collapsed": true
   },
   "outputs": [],
   "source": [
    "def show_terms_related_to_violation(code,df,code_colname,term_colname):\n",
    "    tfidf_vectorizer = TfidfVectorizer(\n",
    "        max_df=0.2, max_features=200000,\n",
    "        min_df=0.05, stop_words='english',\n",
    "        use_idf=True, tokenizer=tokenize_and_stem, ngram_range=(1,2)\n",
    "    )\n",
    "    \n",
    "    tfidf_df = df.loc[df[code_colname] == code][colname]\n",
    "    rel_terms_matrix = tfidf_vectorizer.fit_transform(tfidf_df)\n",
    "    rel_terms = tfidf_vectorizer.get_feature_names()\n",
    "\n",
    "    print(\"Rating: \" + str(code))\n",
    "    print()\n",
    "    print(\"Relevant terms:\")\n",
    "    print(rel_terms)\n",
    "    print(\"-\"*10)\n",
    "    print()"
   ]
  },
  {
   "cell_type": "code",
   "execution_count": 71,
   "metadata": {
    "scrolled": true
   },
   "outputs": [
    {
     "name": "stdout",
     "output_type": "stream",
     "text": [
      "Rating: 4.0\n",
      "\n",
      "Relevant terms:\n",
      "['abv', 'aftertast', 'age', 'ale', 'amber', 'amber color', 'ani', 'anoth', 'appear', 'bad', 'befor', 'best', 'better', 'big', 'bite', 'black', 'bottl pour', 'bourbon', 'breadi', 'brew', 'bubbl', 'burnt', 'caramel malt', 'charact', 'citrus', 'clean', 'clear', 'cloudi', 'coffe', 'come', 'complex', 'copper', 'creami', 'crisp', 'd', 'dark brown', 'dark chocol', 'dark fruit', 'decent', 'deep', 'definit', 'dissip', 'doe', 'doesnt', 'domin', 'dont', 'dri', 'earthi', 'easi', 'easi drink', 'edg', 'end', 'enjoy', 'excel', 'expect', 'fade', 'faint', 'fair', 'feel', 'fine', 'finger', 'floral', 'foam', 'follow', 'founder', 'fresh', 'fruit', 'fruiti', 'goe', 'golden', 'got', 'grain', 'grapefruit', 'hazi', 'heavi', 'high', 'hit', 'hop bitter', 'hoppi', 'huge', 'id', 'im', 'inch', 'ipa', 'isnt', 'ive', 'lace glass', 'lace s', 'lace smell', 'leav', 'left', 'linger', 'long', 'look', 'lot', 'love', 'low', 'make', 'malti', 'mayb', 'medium bodi', 'mild', 'mix', 'moder', 'mouth', 'near', 'noth', 'notic', 'o', 'oak', 'offwhit', 'onli', 'orang', 'overal', 'oz', 'oz bottl', 'palat', 'pale', 'perfect', 'pick', 'pine', 'pint', 'pint glass', 'pleasant', 'porter', 'presenc', 'present', 'pretti', 'probabl', 'quick', 'quit', 'red', 'refresh', 'retent', 'review', 'rich', 'right', 'ring', 'roast', 'roast malt', 'roasti', 'say', 'scent', 'serv', 'session', 'sip', 'small', 'smoke', 'smoki', 'snifter', 'solid', 'someth', 'somewhat', 'spice', 'spici', 'start', 'sticki', 'stout', 'strong', 'style', 'subtl', 'sugar', 'sure', 'surpris', 'sweet malt', 'tan', 'tan head', 'tap', 'tasti', 'thank', 'thing', 'think', 'time', 'toast', 'toffe', 'tongu', 'touch', 'tri', 'vanilla', 'veri drinkabl', 'veri good', 'veri nice', 'want', 'warm', 'way', 'white head', 'worth', 'yeast']\n",
      "----------\n",
      "\n",
      "Rating: 4.5\n",
      "\n",
      "Relevant terms:\n",
      "['abv', 'aftertast', 'age', 'ale', 'amaz', 'amber', 'ani', 'anoth', 'appear', 'awesom', 'barrel', 'beauti', 'befor', 'best', 'better', 'big', 'bite', 'blend', 'bottl pour', 'bourbon', 'brew', 'breweri', 'brown head', 'bubbl', 'burnt', 'caramel malt', 'charact', 'chewi', 'chocol coffe', 'citrus', 'clean', 'clear', 'coat', 'coffe chocol', 'color head', 'come', 'complex', 'copper', 'crisp', 'd', 'dark brown', 'dark chocol', 'dark fruit', 'day', 'decent', 'deep', 'definit', 'delici', 'dissip', 'doe', 'doesnt', 'domin', 'dont', 'dri', 'earthi', 'easi', 'easi drink', 'easili', 'edg', 'end', 'enjoy', 'excel', 'expect', 'extrem', 'fade', 'faint', 'fair', 'fantast', 'favorit', 'feel', 'fine', 'finger', 'floral', 'foam', 'follow', 'founder', 'fresh', 'fruit', 'fruiti', 'goe', 'golden', 'got', 'grain', 'grapefruit', 'hazi', 'heavi', 'high', 'hit', 'hop bitter', 'hoppi', 'huge', 'id', 'im', 'imperi', 'impress', 'inch', 'ipa', 'isnt', 'ive', 'know', 'lace glass', 'lace s', 'lace smell', 'leav', 'left', 'linger', 'long', 'look', 'lot', 'love', 'low', 'make', 'malti', 'mani', 'mayb', 'medium bodi', 'mild', 'mix', 'moder', 'molass', 'mouth', 'near', 'night', 'notic', 'o', 'oak', 'oili', 'onli', 'opaqu', 'orang', 'overal', 'oz', 'oz bottl', 'palat', 'pale', 'perfect', 'pick', 'pine', 'pint', 'pint glass', 'pleasant', 'porter', 'presenc', 'present', 'pretti', 'quick', 'quit', 'recommend', 'red', 'refresh', 'retent', 'review', 'rich', 'right', 'ring', 'roast coffe', 'roast malt', 'roasti', 'rye', 'say', 'scent', 'serv', 'session', 'sip', 'slowli', 'small', 'smoke', 'smoki', 'snifter', 'solid', 'someth', 'spice', 'spici', 'start', 'sticki', 'stout', 'strong', 'style', 'subtl', 'sugar', 'sure', 'surpris', 'sweet malt', 'tan', 'tan head', 'tap', 'tasti', 'thank', 'thing', 'think', 'time', 'toast', 'toffe', 'tongu', 'touch', 'tri', 'tulip', 'vanilla', 'veri drinkabl', 'veri good', 'veri nice', 'veri smooth', 'want', 'warm', 'way', 'white', 'white head', 'wonder', 'worth', 'wow', 'year']\n",
      "----------\n",
      "\n",
      "Rating: 5.0\n",
      "\n",
      "Relevant terms:\n",
      "['absolut', 'abv', 'actual', 'add', 'aftertast', 'age', 'ale', 'amaz', 'amber', 'ani', 'anoth', 'appear', 'away', 'awesom', 'barrel', 'beauti', 'becaus', 'beer ive', 'befor', 'best', 'best beer', 'better', 'big', 'bite', 'blend', 'breakfast', 'breakfast stout', 'breweri', 'brown head', 'bubbl', 'burnt', 'caramel', 'charact', 'chewi', 'chocol coffe', 'citrus', 'clean', 'clear', 'coat', 'cocoa', 'coffe chocol', 'color head', 'come', 'complex', 'crisp', 'd', 'dark brown', 'dark chocol', 'day', 'decent', 'deep', 'definit', 'delici', 'didnt', 'differ', 'dissip', 'doe', 'doesnt', 'domin', 'dont', 'dri', 'earthi', 'easi', 'easi drink', 'easili', 'edg', 'end', 'enjoy', 'espresso', 'everi', 'everyth', 'excel', 'expect', 'extrem', 'fade', 'fair', 'fantast', 'far', 'favorit', 'feel', 'fine', 'finger', 'floral', 'foam', 'follow', 'form', 'founder', 'fresh', 'fruit', 'fruiti', 'goe', 'golden', 'got', 'grapefruit', 'great beer', 'hard', 'heavi', 'high', 'hit', 'hop bitter', 'hoppi', 'huge', 'hype', 'im', 'imperi', 'imperi stout', 'impress', 'incred', 'ipa', 'ive', 'kbs', 'know', 'lace glass', 'lace s', 'leav', 'left', 'let', 'linger', 'live', 'long', 'look', 'lot', 'love', 'low', 'make', 'malti', 'mani', 'mapl', 'mayb', 'medium', 'medium bodi', 'mild', 'milk', 'mix', 'mocha', 'moder', 'molass', 'mouth', 'near', 'night', 'noth', 'notic', 'o', 'oak', 'oatmeal', 'oil', 'onli', 'opaqu', 'orang', 'overal', 'oz', 'oz bottl', 'pack', 'palat', 'pale', 'pick', 'pine', 'pint', 'pint glass', 'pitch', 'pitch black', 'pleasant', 'presenc', 'present', 'pretti', 'probabl', 'quick', 'quit', 'recommend', 'red', 'refresh', 'remind', 'retent', 'review', 'rich', 'right', 'ring', 'roast coffe', 'roast malt', 'roasti', 'round', 'say', 'scent', 'serv', 'session', 'silki', 'sip', 'sit', 'small', 'smell like', 'smoke', 'snifter', 'solid', 'someth', 'spici', 'start', 'sticki', 'strong', 'stuff', 'style', 'subtl', 'sugar', 'sure', 'surpris', 'syrup', 'tan', 'tan head', 'tap', 'tast like', 'tasti', 'thank', 'thing', 'think', 'time', 'toffe', 'tongu', 'touch', 'tri', 'use', 'vanilla', 'veri nice', 'veri smooth', 'want', 'warm', 'way', 'white', 'white head', 'wonder', 'worth', 'wow', 'year']\n",
      "----------\n",
      "\n"
     ]
    }
   ],
   "source": [
    "for code in [4.0,4.5,5.0]:\n",
    "    show_terms_related_to_violation(code,clean_df_subset,'review/overall','review/text')"
   ]
  },
  {
   "cell_type": "code",
   "execution_count": null,
   "metadata": {
    "collapsed": true
   },
   "outputs": [],
   "source": []
  }
 ],
 "metadata": {
  "kernelspec": {
   "display_name": "Python 3",
   "language": "python",
   "name": "python3"
  },
  "language_info": {
   "codemirror_mode": {
    "name": "ipython",
    "version": 3
   },
   "file_extension": ".py",
   "mimetype": "text/x-python",
   "name": "python",
   "nbconvert_exporter": "python",
   "pygments_lexer": "ipython3",
   "version": "3.6.5"
  }
 },
 "nbformat": 4,
 "nbformat_minor": 2
}
