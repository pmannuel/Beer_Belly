{
 "cells": [
  {
   "cell_type": "code",
   "execution_count": 182,
   "metadata": {},
   "outputs": [],
   "source": [
    "from bs4 import BeautifulSoup\n",
    "import requests\n",
    "import re\n",
    "import urllib\n",
    "import os\n",
    "import pandas as pd"
   ]
  },
  {
   "cell_type": "code",
   "execution_count": null,
   "metadata": {
    "collapsed": true
   },
   "outputs": [],
   "source": []
  },
  {
   "cell_type": "code",
   "execution_count": 183,
   "metadata": {},
   "outputs": [],
   "source": [
    "if os.path.exists('dataset/kaggle_beer.csv'):\n",
    "    data = pd.read_csv('dataset/kaggle_beer.csv', error_bad_lines=False)\n",
    "\n",
    "# Subset only USA brewed beers    \n",
    "data = data[data.country == 'United States']"
   ]
  },
  {
   "cell_type": "code",
   "execution_count": 187,
   "metadata": {},
   "outputs": [
    {
     "data": {
      "text/plain": [
       "Index(['beer_name', 'id', 'brewery_id', 'cat_id', 'style_id', 'abv', 'ibu',\n",
       "       'srefm', 'upc', 'filepath', 'description', 'add_user', 'last_mod',\n",
       "       'style', 'category', 'brewery', 'address', 'city', 'state', 'country',\n",
       "       'coordinate', 'website'],\n",
       "      dtype='object')"
      ]
     },
     "execution_count": 187,
     "metadata": {},
     "output_type": "execute_result"
    }
   ],
   "source": [
    "data.columns"
   ]
  },
  {
   "cell_type": "code",
   "execution_count": null,
   "metadata": {
    "collapsed": true
   },
   "outputs": [],
   "source": []
  },
  {
   "cell_type": "code",
   "execution_count": 185,
   "metadata": {
    "collapsed": true
   },
   "outputs": [],
   "source": [
    "class beer_entry:\n",
    "  def __init__(self, name, avg_score, num_ratings, style, availability, abv, ibu):\n",
    "    self.name = name\n",
    "    self.avg_score = avg_score\n",
    "    self.num_ratings = num_ratings\n",
    "    self.style = style\n",
    "    self.availability = availability\n",
    "    self.abv = abv\n",
    "    self.ibu = ibu\n",
    "    self.style_og = style_og\n",
    "    self.category_og = category_og\n",
    "    self.brewery_og = brewery_og\n",
    "    self.city_og = city_og\n",
    "    self.state_og = state_og"
   ]
  },
  {
   "cell_type": "code",
   "execution_count": 188,
   "metadata": {},
   "outputs": [
    {
     "name": "stdout",
     "output_type": "stream",
     "text": [
      "0\n",
      "https://www.beeradvocate.com/search/?qt=beer&q=scottish%20ale%20carlyle%20brewing\n",
      "3\n",
      "https://www.beeradvocate.com/search/?qt=beer&q=bee%20sting%20honey%20ale%20great%20divide\n",
      "4\n"
     ]
    },
    {
     "ename": "AttributeError",
     "evalue": "'float' object has no attribute 'lower'",
     "output_type": "error",
     "traceback": [
      "\u001b[1;31m---------------------------------------------------------------------------\u001b[0m",
      "\u001b[1;31mAttributeError\u001b[0m                            Traceback (most recent call last)",
      "\u001b[1;32m<ipython-input-188-1c3fba237c11>\u001b[0m in \u001b[0;36m<module>\u001b[1;34m()\u001b[0m\n\u001b[0;32m     10\u001b[0m     \u001b[0mbeer_name_og\u001b[0m \u001b[1;33m=\u001b[0m \u001b[0mrow\u001b[0m\u001b[1;33m[\u001b[0m\u001b[1;34m'beer_name'\u001b[0m\u001b[1;33m]\u001b[0m\u001b[1;33m.\u001b[0m\u001b[0mlower\u001b[0m\u001b[1;33m(\u001b[0m\u001b[1;33m)\u001b[0m\u001b[1;33m\u001b[0m\u001b[0m\n\u001b[0;32m     11\u001b[0m     \u001b[0mstyle_og\u001b[0m \u001b[1;33m=\u001b[0m \u001b[0mrow\u001b[0m\u001b[1;33m[\u001b[0m\u001b[1;34m'style'\u001b[0m\u001b[1;33m]\u001b[0m\u001b[1;33m\u001b[0m\u001b[0m\n\u001b[1;32m---> 12\u001b[1;33m     \u001b[0mcategory_og\u001b[0m \u001b[1;33m=\u001b[0m \u001b[0mrow\u001b[0m\u001b[1;33m[\u001b[0m\u001b[1;34m'category'\u001b[0m\u001b[1;33m]\u001b[0m\u001b[1;33m.\u001b[0m\u001b[0mlower\u001b[0m\u001b[1;33m(\u001b[0m\u001b[1;33m)\u001b[0m\u001b[1;33m\u001b[0m\u001b[0m\n\u001b[0m\u001b[0;32m     13\u001b[0m     \u001b[0mbrewery_og\u001b[0m \u001b[1;33m=\u001b[0m \u001b[0mrow\u001b[0m\u001b[1;33m[\u001b[0m\u001b[1;34m'brewery'\u001b[0m\u001b[1;33m]\u001b[0m\u001b[1;33m.\u001b[0m\u001b[0mlower\u001b[0m\u001b[1;33m(\u001b[0m\u001b[1;33m)\u001b[0m\u001b[1;33m\u001b[0m\u001b[0m\n\u001b[0;32m     14\u001b[0m     \u001b[0mcity_og\u001b[0m \u001b[1;33m=\u001b[0m \u001b[0mrow\u001b[0m\u001b[1;33m[\u001b[0m\u001b[1;34m'city'\u001b[0m\u001b[1;33m]\u001b[0m\u001b[1;33m.\u001b[0m\u001b[0mlower\u001b[0m\u001b[1;33m(\u001b[0m\u001b[1;33m)\u001b[0m\u001b[1;33m\u001b[0m\u001b[0m\n",
      "\u001b[1;31mAttributeError\u001b[0m: 'float' object has no attribute 'lower'"
     ]
    }
   ],
   "source": [
    "#webscrapping beeradvocate\n",
    "\n",
    "for index, row in data.iterrows():\n",
    "    \n",
    "    print(index)\n",
    "    \n",
    "    if index == 10:\n",
    "        break\n",
    "    \n",
    "    beer_name_og = row['beer_name']\n",
    "    style_og = row['style']\n",
    "    category_og = row['category']\n",
    "    brewery_og = row['brewery']\n",
    "    city_og = row['city']\n",
    "    state_og = row['state']\n",
    "    \n",
    "    base_url = \"https://www.beeradvocate.com/\"\n",
    "    search_url = base_url + \"search/?qt=beer&q=\"\n",
    "    \n",
    "    if len(brewery_og.split()) > 1:\n",
    "        search_beer_brewery = beer_name_og + ' ' + brewery_og.split()[0] + ' ' + brewery_og.split()[1]\n",
    "    else:\n",
    "        search_beer_brewery = beer_name_og + ' ' + brewery_og\n",
    "    \n",
    "    query_url = search_url + urllib.parse.quote(search_beer_brewery)\n",
    "    \n",
    "    print(query_url)\n",
    "    \n",
    "    page = requests.get(query_url)\n",
    "    \n",
    "    # Search result page\n",
    "    try:\n",
    "        first_beer_result = soup.find(id=\"ba-content\").find_all('a')[0]\n",
    "        first_beer_result_name = first_beer_result.string\n",
    "        first_beer_result_relative_link = first_beer_result.get('href')\n",
    "\n",
    "        # Beer profile page\n",
    "        page = requests.get(base_url + first_beer_result_relative_link)\n",
    "        soup = BeautifulSoup(page.content, 'html.parser')\n",
    "    except:\n",
    "        continue\n",
    "        \n",
    "    # Get beer profile information\n",
    "    avg_score = soup.find(class_=\"ba-ravg\").text\n",
    "    num_ratings = soup.find(class_=\"ba-ratings\").text\n",
    "    style = re.search('Style: (.*)',soup.find(id=\"info_box\").text)[1]\n",
    "    availability = re.search('Availability: (.*)',soup.find(id=\"info_box\").text)[1]\n",
    "    try:\n",
    "        abv = re.search(': (.*)%',soup.find(id=\"info_box\").text)[1]\n",
    "    except:\n",
    "        abv = -1\n",
    "    try: \n",
    "        ibu = re.search('(.*) IBU',soup.find(id=\"info_box\").text)[1]\n",
    "    except: \n",
    "        ibu = -1\n",
    "\n",
    "    new_entry = beer_entry(\n",
    "        beer_name_og,\n",
    "        avg_score,\n",
    "        num_of_ratings,\n",
    "        style,\n",
    "        avail,\n",
    "        abv,\n",
    "        ibu,\n",
    "        style_og,\n",
    "        category_og,\n",
    "        brewery_og,\n",
    "        city_og,\n",
    "        state_og     \n",
    "    )\n",
    "    \n",
    "    all_beers.append(new_entry)"
   ]
  },
  {
   "cell_type": "code",
   "execution_count": null,
   "metadata": {
    "collapsed": true
   },
   "outputs": [],
   "source": []
  },
  {
   "cell_type": "code",
   "execution_count": null,
   "metadata": {
    "collapsed": true
   },
   "outputs": [],
   "source": []
  },
  {
   "cell_type": "code",
   "execution_count": null,
   "metadata": {
    "collapsed": true
   },
   "outputs": [],
   "source": []
  },
  {
   "cell_type": "code",
   "execution_count": null,
   "metadata": {
    "collapsed": true
   },
   "outputs": [],
   "source": []
  },
  {
   "cell_type": "code",
   "execution_count": null,
   "metadata": {
    "collapsed": true
   },
   "outputs": [],
   "source": []
  },
  {
   "cell_type": "code",
   "execution_count": null,
   "metadata": {
    "collapsed": true
   },
   "outputs": [],
   "source": []
  },
  {
   "cell_type": "code",
   "execution_count": null,
   "metadata": {
    "collapsed": true
   },
   "outputs": [],
   "source": [
    "base_url = \"https://www.beeradvocate.com/\"\n",
    "search_url = base_url + \"search/?qt=beer&q=\"\n",
    "beer_name = '312';"
   ]
  },
  {
   "cell_type": "code",
   "execution_count": null,
   "metadata": {},
   "outputs": [],
   "source": [
    "page = requests.get(search_url + test_beer)\n",
    "soup = BeautifulSoup(page.content, 'html.parser')"
   ]
  },
  {
   "cell_type": "code",
   "execution_count": null,
   "metadata": {
    "collapsed": true
   },
   "outputs": [],
   "source": [
    "base_url = \"https://untappd.com\"\n",
    "search_url = base_url + \"/search?q=\"\n",
    "test_beer = 'apex bear';"
   ]
  },
  {
   "cell_type": "code",
   "execution_count": null,
   "metadata": {
    "collapsed": true
   },
   "outputs": [],
   "source": [
    "query_url = search_url + urllib.parse.quote(test_beer)\n",
    "print(query_url)\n",
    "page = requests.get(query_url)"
   ]
  },
  {
   "cell_type": "code",
   "execution_count": null,
   "metadata": {},
   "outputs": [],
   "source": [
    "first_beer_result = soup.find(id=\"ba-content\").find_all('a')[0]\n",
    "first_beer_result_name = first_beer_result.string\n",
    "first_beer_result_relative_link = first_beer_result.get('href')"
   ]
  },
  {
   "cell_type": "code",
   "execution_count": null,
   "metadata": {},
   "outputs": [],
   "source": [
    "print(first_beer_result_name)\n",
    "print(base_url + first_beer_result_relative_link)\n",
    "page = requests.get(base_url + first_beer_result_relative_link)\n",
    "soup = BeautifulSoup(page.content, 'html.parser')\n",
    "print(soup.find(id=\"info_box\").text)"
   ]
  },
  {
   "cell_type": "code",
   "execution_count": null,
   "metadata": {
    "collapsed": true
   },
   "outputs": [],
   "source": [
    "all_beers = []"
   ]
  },
  {
   "cell_type": "code",
   "execution_count": null,
   "metadata": {
    "collapsed": true
   },
   "outputs": [],
   "source": [
    "class beer_entry:\n",
    "  def __init__(self, name, avg_score, num_ratings, style, availability, abv, ibu):\n",
    "    self.name = name\n",
    "    self.avg_score = avg_score\n",
    "    self.num_ratings = num_ratings\n",
    "    self.style = style\n",
    "    self.availability = availability\n",
    "    self.abv = abv\n",
    "    self.ibu = ibu"
   ]
  },
  {
   "cell_type": "code",
   "execution_count": null,
   "metadata": {},
   "outputs": [],
   "source": [
    "avg_score = soup.find(class_=\"ba-ravg\").text\n",
    "num_ratings = soup.find(class_=\"ba-ratings\").text\n",
    "style = re.search('Style: (.*)',soup.find(id=\"info_box\").text)[1]\n",
    "availability = re.search('Availability: (.*)',soup.find(id=\"info_box\").text)[1]\n",
    "\n",
    "try:\n",
    "    abv = re.search(': (.*)%',soup.find(id=\"info_box\").text)[1]\n",
    "except:\n",
    "    abv = -1\n",
    "    \n",
    "try: \n",
    "    ibu = re.search('(.*) IBU',soup.find(id=\"info_box\").text)[1]\n",
    "except: \n",
    "    ibu = -1\n",
    "\n",
    "new_entry = beer_entry(\n",
    "    beer_name,\n",
    "    avg_score,\n",
    "    num_of_ratings,\n",
    "    style,\n",
    "    avail,\n",
    "    abv,\n",
    "    ibu\n",
    ")\n",
    "\n",
    "all_beers.append(new_entry)"
   ]
  },
  {
   "cell_type": "code",
   "execution_count": null,
   "metadata": {
    "collapsed": true
   },
   "outputs": [],
   "source": []
  }
 ],
 "metadata": {
  "kernelspec": {
   "display_name": "Python 3",
   "language": "python",
   "name": "python3"
  },
  "language_info": {
   "codemirror_mode": {
    "name": "ipython",
    "version": 3
   },
   "file_extension": ".py",
   "mimetype": "text/x-python",
   "name": "python",
   "nbconvert_exporter": "python",
   "pygments_lexer": "ipython3",
   "version": "3.6.5"
  }
 },
 "nbformat": 4,
 "nbformat_minor": 2
}
