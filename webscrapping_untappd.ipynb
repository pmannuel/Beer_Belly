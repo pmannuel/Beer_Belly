{
 "cells": [
  {
   "cell_type": "code",
   "execution_count": 27,
   "metadata": {
    "collapsed": true
   },
   "outputs": [],
   "source": [
    "from bs4 import BeautifulSoup\n",
    "import requests\n",
    "import re\n",
    "import urllib"
   ]
  },
  {
   "cell_type": "code",
   "execution_count": 28,
   "metadata": {
    "collapsed": true
   },
   "outputs": [],
   "source": [
    "base_url = \"https://untappd.com\"\n",
    "search_url = base_url + \"/search?q=\"\n",
    "test_beer = 'apex bear';"
   ]
  },
  {
   "cell_type": "code",
   "execution_count": 29,
   "metadata": {},
   "outputs": [
    {
     "name": "stdout",
     "output_type": "stream",
     "text": [
      "https://untappd.com/search?q=apex%20bear\n",
      "<html lang=\"en\">\n",
      " <head>\n",
      "  <meta charset=\"utf-8\"/>\n",
      "  <title>\n",
      "   Untappd\n",
      "  </title>\n",
      "  <meta content=\"noindex, nofollow\" name=\"robots\"/>\n",
      "  <meta content=\"Untappd is a new mobile web app that allows you to socially share the brew you're currently enjoying, as well as where you're enjoying it, with your friends!\" name=\"description\"/>\n",
      "  <style type=\"text/css\">\n",
      "  </style>\n",
      "  <style type=\"text/css\">\n",
      "   body{background-color:#f5f2e8;font-family:ProximaNova,Helvetica Neue,Helvetica}#maintenance{border-radius:0!important;margin:300px auto 0;background-color:#fff;padding:20px;text-align:center;-moz-border-radius:10px;-webkit-border-radius:10px;-moz-box-shadow:0 0 10px rgba(0 ,0 ,0 ,.3);-webkit-box-shadow:0 0 10px rgba(0 ,0 ,0 ,.3)}a{color:#c60;text-decoration:none}#maintenance h1{margin-top:0;font-size:28px;margin-bottom:20px}#maintenance div.info{width:500px;margin:0 auto 15px}#maintenance p.info{width:100%!important;margin-bottom:15px;font-size:16px!important;color:#666}#maintenance p.small{font-size:14px}\n",
      "  </style>\n",
      " </head>\n",
      " <body style=\"\">\n",
      "  <div id=\"maintenance\" style=\"width: 800px;\">\n",
      "   <h1>\n",
      "    An error has occurred.\n",
      "   </h1>\n",
      "   <p class=\"info\">\n",
      "    Your request has not been able to connect to Untappd.\n",
      "   </p>\n",
      "   <p class=\"info small\">\n",
      "    To restore access, please contact us at\n",
      "    <a href=\"http://help.untappd.com\">\n",
      "     http://help.untappd.com\n",
      "    </a>\n",
      "    and include your IP address.\n",
      "   </p>\n",
      "  </div>\n",
      " </body>\n",
      "</html>\n"
     ]
    }
   ],
   "source": [
    "query_url = search_url + urllib.parse.quote(test_beer)\n",
    "print(query_url)\n",
    "page = requests.get(query_url)\n",
    "soup = BeautifulSoup(page.content, 'html.parser')\n",
    "print(soup.prettify())"
   ]
  },
  {
   "cell_type": "code",
   "execution_count": 25,
   "metadata": {},
   "outputs": [
    {
     "name": "stdout",
     "output_type": "stream",
     "text": [
      "[]\n"
     ]
    }
   ],
   "source": [
    "first_beer_result = soup.find_all(class_=\"beer-details\")\n",
    "print(first_beer_result)"
   ]
  },
  {
   "cell_type": "code",
   "execution_count": null,
   "metadata": {
    "collapsed": true
   },
   "outputs": [],
   "source": [
    "first_beer_result_name = first_beer_result.string\n",
    "print(first_beer_result_name)\n",
    "first_beer_result_relative_link = first_beer_result.get('href')\n",
    "print(base_url + first_beer_result_relative_link)"
   ]
  }
 ],
 "metadata": {
  "kernelspec": {
   "display_name": "Python 3",
   "language": "python",
   "name": "python3"
  },
  "language_info": {
   "codemirror_mode": {
    "name": "ipython",
    "version": 3
   },
   "file_extension": ".py",
   "mimetype": "text/x-python",
   "name": "python",
   "nbconvert_exporter": "python",
   "pygments_lexer": "ipython3",
   "version": "3.6.5"
  }
 },
 "nbformat": 4,
 "nbformat_minor": 2
}
